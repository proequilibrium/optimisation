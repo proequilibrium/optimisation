{
 "cells": [
  {
   "cell_type": "code",
   "execution_count": null,
   "metadata": {},
   "outputs": [],
   "source": [
    "\"\"\"\n",
    "A set partitioning model of a wedding seating problem\n",
    "\n",
    "Authors: Stuart Mitchell 2009\n",
    "\"\"\"\n",
    "\n",
    "import pulp\n",
    "\n",
    "max_tables = 3\n",
    "max_table_size = 2\n",
    "guests = 'A B C D E F G I J K L M N O P Q R'.split()\n",
    "\n",
    "def happiness(table):\n",
    "    \"\"\"\n",
    "    Find the happiness of the table\n",
    "    - by calculating the maximum distance between the letters\n",
    "    \"\"\"\n",
    "    return abs(ord(table[0]) - ord(table[-1]))\n",
    "                \n",
    "#create list of all possible tables\n",
    "possible_tables = [tuple(c) for c in pulp.allcombinations(guests, \n",
    "                                        max_table_size)]\n",
    "\n",
    "#create a binary variable to state that a table setting is used\n",
    "x = pulp.LpVariable.dicts('table', possible_tables, \n",
    "                            lowBound = 0,\n",
    "                            upBound = 1,\n",
    "                            cat = pulp.LpInteger)\n",
    "\n",
    "seating_model = pulp.LpProblem(\"Wedding Seating Model\", pulp.LpMinimize)\n",
    "\n",
    "seating_model += sum([happiness(table) * x[table] for table in possible_tables])\n",
    "\n",
    "#specify the maximum number of tables\n",
    "seating_model += sum([x[table] for table in possible_tables]) <= max_tables, \\\n",
    "                            \"Maximum_number_of_tables\"\n",
    "\n",
    "#A guest must seated at one and only one table\n",
    "#for guest in guests:\n",
    "#    seating_model += sum([x[table] for table in possible_tables\n",
    "#                                if guest in table]) == 1, \"Must_seat_%s\"%guest\n",
    "\n",
    "seating_model.solve()\n",
    "\n",
    "print(\"The choosen tables are out of a total of %s:\"%len(possible_tables))\n",
    "for table in possible_tables:\n",
    "    if x[table].value() == 1.0:\n",
    "        print(table)"
   ]
  },
  {
   "cell_type": "code",
   "execution_count": null,
   "metadata": {},
   "outputs": [],
   "source": []
  },
  {
   "cell_type": "code",
   "execution_count": null,
   "metadata": {},
   "outputs": [],
   "source": []
  },
  {
   "cell_type": "code",
   "execution_count": null,
   "metadata": {},
   "outputs": [],
   "source": []
  }
 ],
 "metadata": {
  "kernelspec": {
   "display_name": "Python 3",
   "language": "python",
   "name": "python3"
  },
  "language_info": {
   "codemirror_mode": {
    "name": "ipython",
    "version": 3
   },
   "file_extension": ".py",
   "mimetype": "text/x-python",
   "name": "python",
   "nbconvert_exporter": "python",
   "pygments_lexer": "ipython3",
   "version": "3.7.5"
  }
 },
 "nbformat": 4,
 "nbformat_minor": 2
}
