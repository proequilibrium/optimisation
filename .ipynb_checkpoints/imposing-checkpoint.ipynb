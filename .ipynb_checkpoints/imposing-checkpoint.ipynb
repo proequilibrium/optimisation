{
 "cells": [
  {
   "cell_type": "code",
   "execution_count": 1,
   "metadata": {},
   "outputs": [],
   "source": [
    "flyers_demand = {\n",
    "    \"A\" : 28000,\n",
    "    \"B\" : 14000,\n",
    "    \"C\" : 14000\n",
    "}\n",
    "\n",
    "plates_max_p1 = 6\n",
    "\n",
    "plates = [str(p) for p in range(0,plates_max_p1)]"
   ]
  },
  {
   "cell_type": "code",
   "execution_count": 2,
   "metadata": {},
   "outputs": [
    {
     "data": {
      "text/plain": [
       "['1', '2', '3', '4', '5']"
      ]
     },
     "execution_count": 2,
     "metadata": {},
     "output_type": "execute_result"
    }
   ],
   "source": [
    "plates[1:plates_max_p1]"
   ]
  },
  {
   "cell_type": "code",
   "execution_count": 3,
   "metadata": {},
   "outputs": [],
   "source": [
    "prepairing_costs = 1000\n",
    "one_sheet_costs = 0.7\n",
    "num_per_sheet = 9"
   ]
  },
  {
   "cell_type": "code",
   "execution_count": 4,
   "metadata": {},
   "outputs": [],
   "source": [
    "from pulp import *\n",
    "from itertools import combinations_with_replacement"
   ]
  },
  {
   "cell_type": "code",
   "execution_count": 5,
   "metadata": {},
   "outputs": [],
   "source": [
    "def flyersTotal(kombo, ftype, num):\n",
    "    return kombo.count(ftype)*num"
   ]
  },
  {
   "cell_type": "code",
   "execution_count": 6,
   "metadata": {},
   "outputs": [],
   "source": [
    "prob = LpProblem(\"Impose_optimization\", LpMinimize)"
   ]
  },
  {
   "cell_type": "code",
   "execution_count": 7,
   "metadata": {},
   "outputs": [],
   "source": [
    "flyer_types = list(flyers_demand.keys())\n",
    "plate_combinations =[i for i in combinations_with_replacement(flyer_types, num_per_sheet)]\n"
   ]
  },
  {
   "cell_type": "code",
   "execution_count": null,
   "metadata": {},
   "outputs": [],
   "source": []
  },
  {
   "cell_type": "code",
   "execution_count": 8,
   "metadata": {},
   "outputs": [
    {
     "name": "stdout",
     "output_type": "stream",
     "text": [
      "9-8-8-7-7-7-6-6-6-6-5-5-5-5-5-4-4-4-4-4-4-3-3-3-3-3-3-3-2-2-2-2-2-2-2-2-1-1-1-1-1-1-1-1-1-0-0-0-0-0-0-0-0-0-0-"
     ]
    }
   ],
   "source": [
    "for i in plate_combinations:\n",
    "    print(flyersTotal(i, 'C', 1),end=\"-\")"
   ]
  },
  {
   "cell_type": "code",
   "execution_count": null,
   "metadata": {},
   "outputs": [],
   "source": []
  },
  {
   "cell_type": "code",
   "execution_count": 9,
   "metadata": {},
   "outputs": [],
   "source": [
    "#prob += LpVariable(\"uziti_desky\", plate_combinantions, cat='Binary')"
   ]
  },
  {
   "cell_type": "code",
   "execution_count": 10,
   "metadata": {},
   "outputs": [],
   "source": [
    "pouzite = pulp.LpVariable.dicts('pouzita_kombinace', plate_combinations, cat = pulp.LpBinary)\n",
    "mnozstvi = pulp.LpVariable.dicts('archu_z_kombinace', plate_combinations, lowBound=0, cat = pulp.LpInteger)"
   ]
  },
  {
   "cell_type": "code",
   "execution_count": 11,
   "metadata": {},
   "outputs": [],
   "source": [
    "#tady se pokusim pridat expresi na minimalizaci\n",
    "#seating_model += sum([happiness(table) * x[table] for table in possible_tables])\n",
    "#\n",
    "prob += lpSum([pouzite[plate] * prepairing_costs for plate in plate_combinations] #cena desky\n",
    "              +\n",
    "              [mnozstvi[plate] * one_sheet_costs for plate in plate_combinations]) "
   ]
  },
  {
   "cell_type": "code",
   "execution_count": 12,
   "metadata": {},
   "outputs": [],
   "source": [
    "#lin = ['a','b','c']\n",
    "#lin_var = [LpVariable(linvar, lowBound=0, upBound=9) for linvar in lin]\n",
    "#f=LpAffineExpression([(lin_var[0],5),(lin_var[1],2)])"
   ]
  },
  {
   "cell_type": "code",
   "execution_count": 13,
   "metadata": {},
   "outputs": [],
   "source": [
    "for key, value in flyers_demand.items():\n",
    "    #toto je pridani constraints\n",
    "    # prida podminu element je pomer uzitku na archu, dale klic slouzi k zapocteni vysledku z archu, pouzite==tistene mnozstvi archu\n",
    "    prob += lpSum(flyersTotal(element,key,pouzite[element]) for element in plate_combinations) >= value"
   ]
  },
  {
   "cell_type": "code",
   "execution_count": null,
   "metadata": {},
   "outputs": [],
   "source": [
    "prob.solve()"
   ]
  },
  {
   "cell_type": "code",
   "execution_count": 18,
   "metadata": {},
   "outputs": [
    {
     "data": {
      "text/plain": [
       "'Infeasible'"
      ]
     },
     "execution_count": 18,
     "metadata": {},
     "output_type": "execute_result"
    }
   ],
   "source": [
    "pulp.LpStatus[prob.status]"
   ]
  },
  {
   "cell_type": "code",
   "execution_count": 15,
   "metadata": {},
   "outputs": [
    {
     "name": "stdout",
     "output_type": "stream",
     "text": [
      "('C', 'C', 'C', 'C', 'C', 'C', 'C', 'C', 'C') --- 0.0\n",
      "('C', 'C', 'C', 'C', 'C', 'C', 'C', 'C', 'A') --- 0.0\n",
      "('C', 'C', 'C', 'C', 'C', 'C', 'C', 'C', 'B') --- 0.0\n",
      "('C', 'C', 'C', 'C', 'C', 'C', 'C', 'A', 'A') --- 0.0\n",
      "('C', 'C', 'C', 'C', 'C', 'C', 'C', 'A', 'B') --- 0.0\n",
      "('C', 'C', 'C', 'C', 'C', 'C', 'C', 'B', 'B') --- 0.0\n",
      "('C', 'C', 'C', 'C', 'C', 'C', 'A', 'A', 'A') --- 0.0\n",
      "('C', 'C', 'C', 'C', 'C', 'C', 'A', 'A', 'B') --- 0.0\n",
      "('C', 'C', 'C', 'C', 'C', 'C', 'A', 'B', 'B') --- 0.0\n",
      "('C', 'C', 'C', 'C', 'C', 'C', 'B', 'B', 'B') --- 0.0\n",
      "('C', 'C', 'C', 'C', 'C', 'A', 'A', 'A', 'A') --- 0.0\n",
      "('C', 'C', 'C', 'C', 'C', 'A', 'A', 'A', 'B') --- 0.0\n",
      "('C', 'C', 'C', 'C', 'C', 'A', 'A', 'B', 'B') --- 0.0\n",
      "('C', 'C', 'C', 'C', 'C', 'A', 'B', 'B', 'B') --- 0.0\n",
      "('C', 'C', 'C', 'C', 'C', 'B', 'B', 'B', 'B') --- 0.0\n",
      "('C', 'C', 'C', 'C', 'A', 'A', 'A', 'A', 'A') --- 0.0\n",
      "('C', 'C', 'C', 'C', 'A', 'A', 'A', 'A', 'B') --- 0.0\n",
      "('C', 'C', 'C', 'C', 'A', 'A', 'A', 'B', 'B') --- 0.0\n",
      "('C', 'C', 'C', 'C', 'A', 'A', 'B', 'B', 'B') --- 0.0\n",
      "('C', 'C', 'C', 'C', 'A', 'B', 'B', 'B', 'B') --- 0.0\n",
      "('C', 'C', 'C', 'C', 'B', 'B', 'B', 'B', 'B') --- 0.0\n",
      "('C', 'C', 'C', 'A', 'A', 'A', 'A', 'A', 'A') --- 0.0\n",
      "('C', 'C', 'C', 'A', 'A', 'A', 'A', 'A', 'B') --- 0.0\n",
      "('C', 'C', 'C', 'A', 'A', 'A', 'A', 'B', 'B') --- 0.0\n",
      "('C', 'C', 'C', 'A', 'A', 'A', 'B', 'B', 'B') --- 0.0\n",
      "('C', 'C', 'C', 'A', 'A', 'B', 'B', 'B', 'B') --- 0.0\n",
      "('C', 'C', 'C', 'A', 'B', 'B', 'B', 'B', 'B') --- 0.0\n",
      "('C', 'C', 'C', 'B', 'B', 'B', 'B', 'B', 'B') --- 0.0\n",
      "('C', 'C', 'A', 'A', 'A', 'A', 'A', 'A', 'A') --- 0.0\n",
      "('C', 'C', 'A', 'A', 'A', 'A', 'A', 'A', 'B') --- 0.0\n",
      "('C', 'C', 'A', 'A', 'A', 'A', 'A', 'B', 'B') --- 0.0\n",
      "('C', 'C', 'A', 'A', 'A', 'A', 'B', 'B', 'B') --- 0.0\n",
      "('C', 'C', 'A', 'A', 'A', 'B', 'B', 'B', 'B') --- 0.0\n",
      "('C', 'C', 'A', 'A', 'B', 'B', 'B', 'B', 'B') --- 0.0\n",
      "('C', 'C', 'A', 'B', 'B', 'B', 'B', 'B', 'B') --- 0.0\n",
      "('C', 'C', 'B', 'B', 'B', 'B', 'B', 'B', 'B') --- 0.0\n",
      "('C', 'A', 'A', 'A', 'A', 'A', 'A', 'A', 'A') --- 0.0\n",
      "('C', 'A', 'A', 'A', 'A', 'A', 'A', 'A', 'B') --- 0.0\n",
      "('C', 'A', 'A', 'A', 'A', 'A', 'A', 'B', 'B') --- 0.0\n",
      "('C', 'A', 'A', 'A', 'A', 'A', 'B', 'B', 'B') --- 0.0\n",
      "('C', 'A', 'A', 'A', 'A', 'B', 'B', 'B', 'B') --- 0.0\n",
      "('C', 'A', 'A', 'A', 'B', 'B', 'B', 'B', 'B') --- 0.0\n",
      "('C', 'A', 'A', 'B', 'B', 'B', 'B', 'B', 'B') --- 0.0\n",
      "('C', 'A', 'B', 'B', 'B', 'B', 'B', 'B', 'B') --- 0.0\n",
      "('C', 'B', 'B', 'B', 'B', 'B', 'B', 'B', 'B') --- 0.0\n",
      "('A', 'A', 'A', 'A', 'A', 'A', 'A', 'A', 'A') --- 0.0\n",
      "('A', 'A', 'A', 'A', 'A', 'A', 'A', 'A', 'B') --- 0.0\n",
      "('A', 'A', 'A', 'A', 'A', 'A', 'A', 'B', 'B') --- 0.0\n",
      "('A', 'A', 'A', 'A', 'A', 'A', 'B', 'B', 'B') --- 0.0\n",
      "('A', 'A', 'A', 'A', 'A', 'B', 'B', 'B', 'B') --- 0.0\n",
      "('A', 'A', 'A', 'A', 'B', 'B', 'B', 'B', 'B') --- 0.0\n",
      "('A', 'A', 'A', 'B', 'B', 'B', 'B', 'B', 'B') --- 0.0\n",
      "('A', 'A', 'B', 'B', 'B', 'B', 'B', 'B', 'B') --- 0.0\n",
      "('A', 'B', 'B', 'B', 'B', 'B', 'B', 'B', 'B') --- 0.0\n"
     ]
    }
   ],
   "source": [
    "#optimalne potrebuji situaci dve desky cca 3.100ks\n",
    "for plate in plate_combinations:\n",
    "    if pouzite[plate].value():\n",
    "        print(plate,'---',mnozstvi[plate].value())"
   ]
  },
  {
   "cell_type": "code",
   "execution_count": 16,
   "metadata": {},
   "outputs": [
    {
     "data": {
      "text/plain": [
       "[1, 1, 0, 1, 1]"
      ]
     },
     "execution_count": 16,
     "metadata": {},
     "output_type": "execute_result"
    }
   ],
   "source": [
    "xv = [500,1,0,22,1]\n",
    "[1 if xv[i]>0 else 0 for i in range(len(xv))]\n"
   ]
  },
  {
   "cell_type": "code",
   "execution_count": 17,
   "metadata": {},
   "outputs": [
    {
     "data": {
      "text/plain": [
       "0"
      ]
     },
     "execution_count": 17,
     "metadata": {},
     "output_type": "execute_result"
    }
   ],
   "source": [
    "flyersTotal(('C', 'B', 'B', 'B', 'B', 'B', 'B', 'B', 'B'),'c',14000)"
   ]
  },
  {
   "cell_type": "code",
   "execution_count": null,
   "metadata": {},
   "outputs": [],
   "source": []
  },
  {
   "cell_type": "code",
   "execution_count": null,
   "metadata": {},
   "outputs": [],
   "source": []
  }
 ],
 "metadata": {
  "kernelspec": {
   "display_name": "Python 3",
   "language": "python",
   "name": "python3"
  },
  "language_info": {
   "codemirror_mode": {
    "name": "ipython",
    "version": 3
   },
   "file_extension": ".py",
   "mimetype": "text/x-python",
   "name": "python",
   "nbconvert_exporter": "python",
   "pygments_lexer": "ipython3",
   "version": "3.5.3"
  }
 },
 "nbformat": 4,
 "nbformat_minor": 2
}
