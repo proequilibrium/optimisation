{
 "cells": [
  {
   "cell_type": "code",
   "execution_count": 1,
   "metadata": {},
   "outputs": [],
   "source": [
    "from pulp import *\n",
    "from itertools import combinations_with_replacement"
   ]
  },
  {
   "cell_type": "code",
   "execution_count": 2,
   "metadata": {},
   "outputs": [],
   "source": [
    "flyers_demand = {\n",
    "    \"A\" : 68000,\n",
    "    \"B\" : 14000,\n",
    "    \"C\" : 16000,\n",
    "    \"D\" : 12000,\n",
    "    \"F\" : 12000,\n",
    "}\n",
    "\n",
    "prepairing_costs = 500\n",
    "one_sheet_costs = 0.6\n",
    "num_per_sheet = 9\n",
    "min_print = 200\n",
    "max_print = 50000"
   ]
  },
  {
   "cell_type": "code",
   "execution_count": 3,
   "metadata": {},
   "outputs": [],
   "source": [
    "def flyersTotal(kombo, ftype, num):\n",
    "    return kombo.count(ftype)*num"
   ]
  },
  {
   "cell_type": "code",
   "execution_count": 4,
   "metadata": {},
   "outputs": [],
   "source": [
    "prob = LpProblem(\"Impose_optimization\", LpMinimize)"
   ]
  },
  {
   "cell_type": "code",
   "execution_count": 5,
   "metadata": {},
   "outputs": [],
   "source": [
    "flyer_types = list(flyers_demand.keys())\n",
    "plate_combinations =[i for i in combinations_with_replacement(flyer_types, num_per_sheet)]"
   ]
  },
  {
   "cell_type": "code",
   "execution_count": 6,
   "metadata": {},
   "outputs": [
    {
     "data": {
      "text/plain": [
       "715"
      ]
     },
     "execution_count": 6,
     "metadata": {},
     "output_type": "execute_result"
    }
   ],
   "source": [
    "len(plate_combinations)"
   ]
  },
  {
   "cell_type": "code",
   "execution_count": 7,
   "metadata": {},
   "outputs": [
    {
     "name": "stdout",
     "output_type": "stream",
     "text": [
      "0-0-1-0-0-0-1-0-0-2-1-1-0-0-0-0-1-0-0-2-1-1-0-0-0-3-2-2-1-1-1-0-0-0-0-0-1-0-0-2-1-1-0-0-0-3-2-2-1-1-1-0-0-0-0-4-3-3-2-2-2-1-1-1-1-0-0-0-0-0-0-1-0-0-2-1-1-0-0-0-3-2-2-1-1-1-0-0-0-0-4-3-3-2-2-2-1-1-1-1-0-0-0-0-0-5-4-4-3-3-3-2-2-2-2-1-1-1-1-1-0-0-0-0-0-0-0-1-0-0-2-1-1-0-0-0-3-2-2-1-1-1-0-0-0-0-4-3-3-2-2-2-1-1-1-1-0-0-0-0-0-5-4-4-3-3-3-2-2-2-2-1-1-1-1-1-0-0-0-0-0-0-6-5-5-4-4-4-3-3-3-3-2-2-2-2-2-1-1-1-1-1-1-0-0-0-0-0-0-0-0-1-0-0-2-1-1-0-0-0-3-2-2-1-1-1-0-0-0-0-4-3-3-2-2-2-1-1-1-1-0-0-0-0-0-5-4-4-3-3-3-2-2-2-2-1-1-1-1-1-0-0-0-0-0-0-6-5-5-4-4-4-3-3-3-3-2-2-2-2-2-1-1-1-1-1-1-0-0-0-0-0-0-0-7-6-6-5-5-5-4-4-4-4-3-3-3-3-3-2-2-2-2-2-2-1-1-1-1-1-1-1-0-0-0-0-0-0-0-0-0-1-0-0-2-1-1-0-0-0-3-2-2-1-1-1-0-0-0-0-4-3-3-2-2-2-1-1-1-1-0-0-0-0-0-5-4-4-3-3-3-2-2-2-2-1-1-1-1-1-0-0-0-0-0-0-6-5-5-4-4-4-3-3-3-3-2-2-2-2-2-1-1-1-1-1-1-0-0-0-0-0-0-0-7-6-6-5-5-5-4-4-4-4-3-3-3-3-3-2-2-2-2-2-2-1-1-1-1-1-1-1-0-0-0-0-0-0-0-0-8-7-7-6-6-6-5-5-5-5-4-4-4-4-4-3-3-3-3-3-3-2-2-2-2-2-2-2-1-1-1-1-1-1-1-1-0-0-0-0-0-0-0-0-0-0-1-0-0-2-1-1-0-0-0-3-2-2-1-1-1-0-0-0-0-4-3-3-2-2-2-1-1-1-1-0-0-0-0-0-5-4-4-3-3-3-2-2-2-2-1-1-1-1-1-0-0-0-0-0-0-6-5-5-4-4-4-3-3-3-3-2-2-2-2-2-1-1-1-1-1-1-0-0-0-0-0-0-0-7-6-6-5-5-5-4-4-4-4-3-3-3-3-3-2-2-2-2-2-2-1-1-1-1-1-1-1-0-0-0-0-0-0-0-0-8-7-7-6-6-6-5-5-5-5-4-4-4-4-4-3-3-3-3-3-3-2-2-2-2-2-2-2-1-1-1-1-1-1-1-1-0-0-0-0-0-0-0-0-0-9-8-8-7-7-7-6-6-6-6-5-5-5-5-5-4-4-4-4-4-4-3-3-3-3-3-3-3-2-2-2-2-2-2-2-2-1-1-1-1-1-1-1-1-1-0-0-0-0-0-0-0-0-0-0-"
     ]
    }
   ],
   "source": [
    "for i in plate_combinations:\n",
    "    print(flyersTotal(i, 'C', 1),end=\"-\")"
   ]
  },
  {
   "cell_type": "code",
   "execution_count": null,
   "metadata": {},
   "outputs": [],
   "source": []
  },
  {
   "cell_type": "code",
   "execution_count": null,
   "metadata": {},
   "outputs": [],
   "source": [
    "#prob += LpVariable(\"uziti_desky\", plate_combinantions, cat='Binary')"
   ]
  },
  {
   "cell_type": "code",
   "execution_count": 8,
   "metadata": {},
   "outputs": [],
   "source": [
    "pouzite = pulp.LpVariable.dicts('pouzita_kombinace', plate_combinations, lowBound=0, upBound=1, cat = pulp.LpInteger)\n",
    "mnozstvi = pulp.LpVariable.dicts('archu_z_kombinace', plate_combinations, lowBound=0, cat = pulp.LpInteger)"
   ]
  },
  {
   "cell_type": "code",
   "execution_count": 9,
   "metadata": {},
   "outputs": [],
   "source": [
    "#tady se pokusim pridat expresi na minimalizaci\n",
    "#seating_model += sum([happiness(table) * x[table] for table in possible_tables])\n",
    "#\n",
    "prob += lpSum([pouzite[plate] * prepairing_costs for plate in plate_combinations] #cena desky\n",
    "              +\n",
    "              [mnozstvi[plate] * one_sheet_costs for plate in plate_combinations]) "
   ]
  },
  {
   "cell_type": "code",
   "execution_count": null,
   "metadata": {},
   "outputs": [],
   "source": [
    "#lin = ['a','b','c']\n",
    "#lin_var = [LpVariable(linvar, lowBound=0, upBound=9) for linvar in lin]\n",
    "#f=LpAffineExpression([(lin_var[0],5),(lin_var[1],2)])"
   ]
  },
  {
   "cell_type": "code",
   "execution_count": 10,
   "metadata": {},
   "outputs": [],
   "source": [
    "for key, value in flyers_demand.items():\n",
    "    #toto je pridani constraints\n",
    "    # prida podminu element je pomer uzitku na archu, dale klic slouzi k zapocteni vysledku z archu, pouzite==tistene mnozstvi archu\n",
    "    prob += lpSum(flyersTotal(element,key,mnozstvi[element]) for element in plate_combinations) >= value\n",
    "    \n",
    "for plate in plate_combinations:\n",
    "    #velmi dulezite zapoji to pouzitost nebo nepouzitost do hry, tj zajisti to, ze pokud je nejake mnozstvi\n",
    "    #mnozstvi vetsi nez 0 znamena, ze musi byt sepnuta pouzitelnost jinak\n",
    "    #pomaha hlavne ta druha podminka nebot pokud optimalizator zada mnozstvi na nepouzite desce\n",
    "    #znamena to ze x >= max_print * 0 tj. x>=0 coz neni splneno\n",
    "    prob += mnozstvi[plate] >= min_print * pouzite[plate]\n",
    "    prob += mnozstvi[plate] <= max_print * pouzite[plate]"
   ]
  },
  {
   "cell_type": "code",
   "execution_count": null,
   "metadata": {},
   "outputs": [],
   "source": [
    "#print(prob)"
   ]
  },
  {
   "cell_type": "code",
   "execution_count": null,
   "metadata": {},
   "outputs": [],
   "source": [
    "import time\n",
    "start_time = time.time()\n",
    "prob.solve()\n",
    "print(f\"vysledek:{prob.status} za cas {time.time()-start_time}\")"
   ]
  },
  {
   "cell_type": "code",
   "execution_count": 57,
   "metadata": {},
   "outputs": [
    {
     "name": "stdout",
     "output_type": "stream",
     "text": [
      "vysledek:1 za cas 1586.1543395519257\n"
     ]
    }
   ],
   "source": [
    "import time\n",
    "start_time = time.time()\n",
    "prob.solve(solvers.COIN_CMD(threads=4,msg=1,fracGap = 0.01))\n",
    "print(f\"vysledek:{prob.status} za cas {time.time()-start_time}\")"
   ]
  },
  {
   "cell_type": "code",
   "execution_count": null,
   "metadata": {},
   "outputs": [],
   "source": [
    "import time\n",
    "start_time = time.time()\n",
    "prob.solve(solvers.GLPK_CMD())\n",
    "print(f\"vysledek:{prob.status} za cas {time.time()-start_time}\")"
   ]
  },
  {
   "cell_type": "code",
   "execution_count": null,
   "metadata": {},
   "outputs": [],
   "source": [
    "import time\n",
    "start_time = time.time()\n",
    "prob.solve(solvers.CPLEX_PY())\n",
    "print(f\"vysledek:{prob.status} za cas {time.time()-start_time}\")"
   ]
  },
  {
   "cell_type": "code",
   "execution_count": null,
   "metadata": {},
   "outputs": [],
   "source": [
    "pulp.LpStatus[prob.status]"
   ]
  },
  {
   "cell_type": "code",
   "execution_count": 59,
   "metadata": {},
   "outputs": [
    {
     "name": "stdout",
     "output_type": "stream",
     "text": [
      "pouzite   kombinace \t\t mnozstvi\n",
      "1.0 \t ('A', 'A', 'A', 'A', 'A', 'B', 'C', 'D', 'F') \t 12728.0\n",
      "1.0 \t ('A', 'A', 'A', 'A', 'B', 'B', 'C', 'C', 'C') \t 1091.0\n"
     ]
    }
   ],
   "source": [
    "#optimalne potrebuji situaci dve desky cca 3.100ks\n",
    "print('pouzite   kombinace \\t\\t mnozstvi')\n",
    "for plate in plate_combinations:\n",
    "    if (pouzite[plate].value() > 0):\n",
    "        print(f'{pouzite[plate].value()} \\t {plate} \\t {mnozstvi[plate].value()}')"
   ]
  },
  {
   "cell_type": "code",
   "execution_count": 60,
   "metadata": {},
   "outputs": [],
   "source": [
    "def countTotalPrice(prepairNum):\n",
    "    #cena\n",
    "    total_price = 0\n",
    "    for plate in plate_combinations:\n",
    "        if (pouzite[plate].value() > 0):\n",
    "           total_price += one_sheet_costs * mnozstvi[plate].value() + prepairing_costs\n",
    "    return total_price"
   ]
  },
  {
   "cell_type": "code",
   "execution_count": 69,
   "metadata": {},
   "outputs": [
    {
     "ename": "SyntaxError",
     "evalue": "invalid character in identifier (<ipython-input-69-064f536700fc>, line 1)",
     "output_type": "error",
     "traceback": [
      "\u001b[0;36m  File \u001b[0;32m\"<ipython-input-69-064f536700fc>\"\u001b[0;36m, line \u001b[0;32m1\u001b[0m\n\u001b[0;31m    a♥+1\u001b[0m\n\u001b[0m     ^\u001b[0m\n\u001b[0;31mSyntaxError\u001b[0m\u001b[0;31m:\u001b[0m invalid character in identifier\n"
     ]
    }
   ],
   "source": [
    "♥+1"
   ]
  },
  {
   "cell_type": "code",
   "execution_count": 61,
   "metadata": {},
   "outputs": [
    {
     "data": {
      "text/plain": [
       "9291.4"
      ]
     },
     "execution_count": 61,
     "metadata": {},
     "output_type": "execute_result"
    }
   ],
   "source": [
    "countTotalPrice()"
   ]
  },
  {
   "cell_type": "code",
   "execution_count": 62,
   "metadata": {},
   "outputs": [],
   "source": [
    "import copy\n",
    "pocty = copy.deepcopy(flyers_demand)"
   ]
  },
  {
   "cell_type": "code",
   "execution_count": 63,
   "metadata": {},
   "outputs": [],
   "source": [
    "for plate in plate_combinations:\n",
    "    if (pouzite[plate].value() > 0):\n",
    "        for fl in pocty.keys():\n",
    "            pocty[fl] -= flyersTotal(plate, fl, mnozstvi[plate].value())"
   ]
  },
  {
   "cell_type": "code",
   "execution_count": 64,
   "metadata": {},
   "outputs": [],
   "source": [
    "import numpy as np"
   ]
  },
  {
   "cell_type": "code",
   "execution_count": 65,
   "metadata": {},
   "outputs": [
    {
     "data": {
      "text/plain": [
       "-263.44444444444446"
      ]
     },
     "execution_count": 65,
     "metadata": {},
     "output_type": "execute_result"
    }
   ],
   "source": [
    "#kolik archu je navic\n",
    "nppoc = np.array(list(pocty.values()))\n",
    "nppoc.sum()/9"
   ]
  },
  {
   "cell_type": "code",
   "execution_count": 51,
   "metadata": {},
   "outputs": [
    {
     "data": {
      "text/plain": [
       "{'A': 68000, 'B': 14000, 'C': 16000, 'D': 12000, 'F': 12000}"
      ]
     },
     "execution_count": 51,
     "metadata": {},
     "output_type": "execute_result"
    }
   ],
   "source": [
    "flyers_demand"
   ]
  },
  {
   "cell_type": "code",
   "execution_count": 53,
   "metadata": {},
   "outputs": [
    {
     "name": "stdout",
     "output_type": "stream",
     "text": [
      "13177.0\n",
      "706.0\n"
     ]
    }
   ],
   "source": [
    "for plate in plate_combinations:\n",
    "    if (pouzite[plate].value() > 0):\n",
    "        print(mnozstvi[plate].value())"
   ]
  },
  {
   "cell_type": "code",
   "execution_count": 66,
   "metadata": {},
   "outputs": [
    {
     "data": {
      "text/plain": [
       "12.5"
      ]
     },
     "execution_count": 66,
     "metadata": {},
     "output_type": "execute_result"
    }
   ],
   "source": [
    "50/4"
   ]
  },
  {
   "cell_type": "code",
   "execution_count": null,
   "metadata": {},
   "outputs": [],
   "source": []
  }
 ],
 "metadata": {
  "kernelspec": {
   "display_name": "Python 3",
   "language": "python",
   "name": "python3"
  },
  "language_info": {
   "codemirror_mode": {
    "name": "ipython",
    "version": 3
   },
   "file_extension": ".py",
   "mimetype": "text/x-python",
   "name": "python",
   "nbconvert_exporter": "python",
   "pygments_lexer": "ipython3",
   "version": "3.7.5"
  }
 },
 "nbformat": 4,
 "nbformat_minor": 2
}
